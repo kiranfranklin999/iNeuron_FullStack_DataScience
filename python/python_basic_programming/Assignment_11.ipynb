{
 "cells": [
  {
   "cell_type": "markdown",
   "metadata": {},
   "source": [
    "1. Write a Python program to find words which are greater than given length k ?"
   ]
  },
  {
   "cell_type": "code",
   "execution_count": 3,
   "metadata": {},
   "outputs": [
    {
     "name": "stdout",
     "output_type": "stream",
     "text": [
      "words that are larger than length 2 are ['name', 'franky']\n"
     ]
    }
   ],
   "source": [
    "def check_greater(str,k):\n",
    "    words=str.split()\n",
    "    out_list=[]\n",
    "    for word in words:\n",
    "        if len(word)>k:\n",
    "            out_list.append(word)\n",
    "    return out_list\n",
    "\n",
    "string=input(\"Enter the string\")\n",
    "k=int(input(\"Enter the length K:\"))\n",
    "print(f\"words that are larger than length {k} are {check_greater(string,k)}\")"
   ]
  },
  {
   "cell_type": "markdown",
   "metadata": {},
   "source": [
    "2. Write a Python program for removing i-th character from a string ?"
   ]
  },
  {
   "cell_type": "code",
   "execution_count": 9,
   "metadata": {},
   "outputs": [
    {
     "data": {
      "text/plain": [
       "'kian'"
      ]
     },
     "execution_count": 9,
     "metadata": {},
     "output_type": "execute_result"
    }
   ],
   "source": [
    "def remove_ith_ele(str,inx):\n",
    "    str_list=[i for i in str]\n",
    "    str_list.pop(inx)\n",
    "    return ''.join(str_list)\n",
    "remove_ith_ele(\"kiran\",2)"
   ]
  },
  {
   "cell_type": "markdown",
   "metadata": {},
   "source": [
    "3. Write a Python program to split and join a string ?"
   ]
  },
  {
   "cell_type": "code",
   "execution_count": 10,
   "metadata": {},
   "outputs": [
    {
     "name": "stdout",
     "output_type": "stream",
     "text": [
      "Split String: ['kiran', 'franky']\n",
      "Join String: kiran franky\n"
     ]
    }
   ],
   "source": [
    "def splitJoinString():\n",
    "    in_string = input('Enter the string: ')\n",
    "    print(f\"Split String: {in_string.split(' ')}\")\n",
    "    print(f\"Join String: {' '.join(in_string.split(' '))}\")\n",
    "\n",
    "splitJoinString()"
   ]
  },
  {
   "cell_type": "markdown",
   "metadata": {},
   "source": [
    "4. Write a Python to check if a given string is binary string or not ?"
   ]
  },
  {
   "cell_type": "code",
   "execution_count": 11,
   "metadata": {},
   "outputs": [
    {
     "name": "stdout",
     "output_type": "stream",
     "text": [
      "12344 is not a binart string\n",
      "10101 is a binary string\n"
     ]
    }
   ],
   "source": [
    "def checkBinary():\n",
    "    in_string = input('Enter the string: ')\n",
    "    stun = 0\n",
    "    for ele in in_string:\n",
    "        if ele in ['0','1']:\n",
    "            stun = 1\n",
    "            continue\n",
    "        else:\n",
    "            stun = 0\n",
    "            break\n",
    "    statement = 'is a binary string' if stun == 1 else 'is not a binart string' \n",
    "    print(f'{in_string} {statement}')\n",
    "\n",
    "checkBinary()\n",
    "checkBinary()"
   ]
  },
  {
   "cell_type": "markdown",
   "metadata": {},
   "source": [
    "5. Write a Python program to find uncommon words from two Strings ?"
   ]
  },
  {
   "cell_type": "code",
   "execution_count": 12,
   "metadata": {},
   "outputs": [
    {
     "name": "stdout",
     "output_type": "stream",
     "text": [
      "{'franklin', 'kiran', 'sunil'} {'franklin'}\n",
      "{'kiran', 'sunil'}\n"
     ]
    }
   ],
   "source": [
    "def unCommonWords():\n",
    "    in_string_1 = set(input(\"Enter the String 1: \").split(' '))\n",
    "    in_string_2 = set(input(\"Enter the String 2: \").split(' '))\n",
    "    print(in_string_1.union(in_string_2),in_string_1.intersection(in_string_2))\n",
    "    out_string = (in_string_1.union(in_string_2)).difference(in_string_1.intersection(in_string_2))\n",
    "    print(out_string)\n",
    "\n",
    "unCommonWords()"
   ]
  },
  {
   "cell_type": "markdown",
   "metadata": {},
   "source": [
    "6. Write a Python to find all duplicate characters in string ?"
   ]
  },
  {
   "cell_type": "code",
   "execution_count": 13,
   "metadata": {},
   "outputs": [
    {
     "name": "stdout",
     "output_type": "stream",
     "text": [
      "Duplicate characters are: ['a', 'n', 'k', 'r']\n"
     ]
    }
   ],
   "source": [
    "def duplicateChars():\n",
    "    in_string = input('Enter the string: ')\n",
    "    non_duplicate_list = []\n",
    "    duplicate_list = []\n",
    "    for ele in in_string:\n",
    "        if ele not in non_duplicate_list:\n",
    "            non_duplicate_list.append(ele)\n",
    "        else:\n",
    "            duplicate_list.append(ele)\n",
    "    print(f'Duplicate characters are: {list(set(duplicate_list))}')\n",
    "        \n",
    "duplicateChars()"
   ]
  },
  {
   "cell_type": "markdown",
   "metadata": {},
   "source": [
    "7. Write a Python Program to check if a string contains any special character?"
   ]
  },
  {
   "cell_type": "code",
   "execution_count": 14,
   "metadata": {},
   "outputs": [
    {
     "name": "stdout",
     "output_type": "stream",
     "text": [
      "There are 2 Speical Characters in K!r@an which are ['!', '@']\n"
     ]
    }
   ],
   "source": [
    "def checkSpecialChar():\n",
    "    spl_chars = '[@_!#$%^&*()<>?/\\|}{~:]'\n",
    "    in_num = input('Enter the string: ')\n",
    "    count = 0\n",
    "    char_list = []\n",
    "    for ele in in_num:\n",
    "        if ele in spl_chars:\n",
    "            char_list.append(ele)\n",
    "            count = count+1\n",
    "    print(f'There are {count} Speical Characters in {in_num} which are {char_list}')\n",
    "checkSpecialChar()"
   ]
  },
  {
   "cell_type": "code",
   "execution_count": null,
   "metadata": {},
   "outputs": [],
   "source": []
  }
 ],
 "metadata": {
  "interpreter": {
   "hash": "deb52093af7cbb9d5b9737f684c43c8500c72e980d4cdedb73bbfa0661d73a17"
  },
  "kernelspec": {
   "display_name": "Python 3.7.3 ('base')",
   "language": "python",
   "name": "python3"
  },
  "language_info": {
   "codemirror_mode": {
    "name": "ipython",
    "version": 3
   },
   "file_extension": ".py",
   "mimetype": "text/x-python",
   "name": "python",
   "nbconvert_exporter": "python",
   "pygments_lexer": "ipython3",
   "version": "3.7.3"
  },
  "orig_nbformat": 4
 },
 "nbformat": 4,
 "nbformat_minor": 2
}
