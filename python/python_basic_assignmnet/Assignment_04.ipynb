{
 "cells": [
  {
   "cell_type": "markdown",
   "id": "4d2ed0e4",
   "metadata": {},
   "source": [
    "#### 1.What exactly is `[ ]`?\n",
    "**Ans**: The empty list represented by `[]` is a list that contains no items. This is similar to `''` which represents an empty string"
   ]
  },
  {
   "cell_type": "markdown",
   "id": "b6e56852",
   "metadata": {},
   "source": [
    "#### 2.In a list of values stored in a variable called spam, how would you assign the value 'hello' as the third value? (Assume [2, 4, 6, 8, 10] are in spam.) \n",
    "**Ans:** `spam[2]='hello'` (Note: Lists follows zero based indexing)"
   ]
  },
  {
   "cell_type": "code",
   "execution_count": 1,
   "id": "737fb672",
   "metadata": {},
   "outputs": [
    {
     "name": "stdout",
     "output_type": "stream",
     "text": [
      "[2, 4, 6, 8, 10]\n",
      "[2, 4, 'hello', 8, 10]\n"
     ]
    }
   ],
   "source": [
    "# Example\n",
    "spam=[2,4,6,8,10]\n",
    "print(spam)\n",
    "spam[2]='hello' #List uses zero based indexing\n",
    "print(spam)"
   ]
  },
  {
   "cell_type": "markdown",
   "id": "423f2578",
   "metadata": {},
   "source": [
    "## Let's pretend the spam includes the list ['a','b','c',d'] for the next three queries."
   ]
  },
  {
   "cell_type": "markdown",
   "id": "c3093377",
   "metadata": {},
   "source": [
    "#### 3. What is the value of `spam[int(int('3'*2)//11)]` ?\n",
    "**Ans:** `'d'` (Note that '3' * 2 is the string '33', which is passed to int() before being divided by 11.\n",
    "     This eventually evaluates to 3, `spam[3]` is equal to `d`.)"
   ]
  },
  {
   "cell_type": "code",
   "execution_count": 2,
   "id": "338984fe",
   "metadata": {},
   "outputs": [
    {
     "name": "stdout",
     "output_type": "stream",
     "text": [
      "spam[int(int('3'*2)/11)] -> d\n"
     ]
    }
   ],
   "source": [
    "spam=['a','b','c','d']\n",
    "print(\"spam[int(int('3'*2)/11)] ->\",spam[int(int('3'*2)/11)])"
   ]
  },
  {
   "cell_type": "markdown",
   "id": "9e1182c8",
   "metadata": {},
   "source": [
    "#### 4. What is the value of spam[-1]?\n",
    "**Ans:** `'d'` (Lists support Negative indexing, Hence `spam[-1]` returs `'d'`)"
   ]
  },
  {
   "cell_type": "code",
   "execution_count": 3,
   "id": "ee415de9",
   "metadata": {},
   "outputs": [
    {
     "name": "stdout",
     "output_type": "stream",
     "text": [
      "spam[-1] ->  d\n"
     ]
    }
   ],
   "source": [
    "spam=['a','b','c','d']\n",
    "print('spam[-1] -> ',spam[-1])"
   ]
  },
  {
   "cell_type": "markdown",
   "id": "95920e0b",
   "metadata": {},
   "source": [
    "#### 5. What is the value of spam[:2]?\n",
    "**Ans:** `spam[:2]` returns all elements in the list spam from 0 to 2 excluding 2"
   ]
  },
  {
   "cell_type": "code",
   "execution_count": 4,
   "id": "19c06353",
   "metadata": {},
   "outputs": [
    {
     "name": "stdout",
     "output_type": "stream",
     "text": [
      "['a', 'b', 'c', 'd']\n",
      "['a', 'b']\n"
     ]
    }
   ],
   "source": [
    "print(spam)\n",
    "print(spam[:2])"
   ]
  },
  {
   "cell_type": "markdown",
   "id": "0c597670",
   "metadata": {},
   "source": [
    "## Let's pretend bacon has the list [3.14,'cat',11,'cat',True] for the next three question"
   ]
  },
  {
   "cell_type": "markdown",
   "id": "4532aa75",
   "metadata": {},
   "source": [
    "#### 6. What is the value of bacon.index('cat')?"
   ]
  },
  {
   "cell_type": "markdown",
   "id": "b6d1d5fe",
   "metadata": {},
   "source": [
    "**Ans:** The value of `bacon.index('cat')` is `1` (Note: index method returns the index of first occuerence of `'cat'`)"
   ]
  },
  {
   "cell_type": "code",
   "execution_count": 5,
   "id": "29ad2c43",
   "metadata": {},
   "outputs": [
    {
     "name": "stdout",
     "output_type": "stream",
     "text": [
      "bacon.index('cat') -> 1\n"
     ]
    }
   ],
   "source": [
    "bacon=[3.14,'cat',11,'cat',True]\n",
    "print(\"bacon.index('cat') ->\",bacon.index('cat'))"
   ]
  },
  {
   "cell_type": "markdown",
   "id": "a6315daa",
   "metadata": {},
   "source": [
    "#### 7. How does bacon.append(99) change the look of the list value in bacon?\n",
    "**Ans:** The `append` method adds new elements to the end of the list"
   ]
  },
  {
   "cell_type": "code",
   "execution_count": 6,
   "id": "be0ebd05",
   "metadata": {},
   "outputs": [
    {
     "name": "stdout",
     "output_type": "stream",
     "text": [
      "[3.14, 'cat', 11, 'cat', True]\n",
      "[3.14, 'cat', 11, 'cat', True, 99]\n"
     ]
    }
   ],
   "source": [
    "# Example\n",
    "print(bacon)\n",
    "bacon.append(99) # appends 99 to the end of the list\n",
    "print(bacon)"
   ]
  },
  {
   "cell_type": "markdown",
   "id": "85e81927",
   "metadata": {},
   "source": [
    "#### 8. How does bacon.remove('cat') change the look of the list in bacon?\n",
    "**Ans:** The `remove` method removes the first occurence of the element in the list"
   ]
  },
  {
   "cell_type": "code",
   "execution_count": 7,
   "id": "c3aca074",
   "metadata": {},
   "outputs": [
    {
     "name": "stdout",
     "output_type": "stream",
     "text": [
      "[3.14, 'cat', 11, 'cat', True, 99]\n",
      "[3.14, 11, 'cat', True, 99]\n"
     ]
    }
   ],
   "source": [
    "print(bacon)\n",
    "bacon.remove('cat')\n",
    "print(bacon)"
   ]
  },
  {
   "cell_type": "markdown",
   "id": "cdbe3c4a",
   "metadata": {},
   "source": [
    "#### 9.what are the list concatenation and list replication operations?\n",
    "**Ans:** The operator for list concatenation is `+`, while the operator for replication is `*`. (This is the same as for strings.)"
   ]
  },
  {
   "cell_type": "code",
   "execution_count": 8,
   "id": "bd9dc39a",
   "metadata": {},
   "outputs": [
    {
     "name": "stdout",
     "output_type": "stream",
     "text": [
      "['ML', 'DL', 'AI', 'CV', 'NLP', 'RNN', 'CNN', 'SVN']\n",
      "['RNN', 'CNN', 'SVN', 'RNN', 'CNN', 'SVN']\n"
     ]
    }
   ],
   "source": [
    "# Example\n",
    "list_1 = ['ML','DL','AI','CV','NLP']\n",
    "list_2 = ['RNN','CNN','SVN']\n",
    "print(list_1 + list_2) # List Concatenation\n",
    "print(list_2*2) # List Replication"
   ]
  },
  {
   "cell_type": "markdown",
   "id": "d4f9b87c",
   "metadata": {},
   "source": [
    "#### 10.what is the difference between the list method append() and insert()?\n",
    "**Ans:** While append() will add values only to the end of a list, insert() can add them anywhere in the list."
   ]
  },
  {
   "cell_type": "code",
   "execution_count": 9,
   "id": "e2901ff6",
   "metadata": {},
   "outputs": [
    {
     "name": "stdout",
     "output_type": "stream",
     "text": [
      "[1, 2, 3, 4, 5, 6]\n",
      "[1, 2, 'Demo', 3, 4, 5, 6]\n"
     ]
    }
   ],
   "source": [
    "#Examples\n",
    "list = [1,2,3,4,5]\n",
    "list.append(6)\n",
    "print(list)\n",
    "list.insert(2,'Demo')\n",
    "print(list)"
   ]
  },
  {
   "cell_type": "markdown",
   "id": "3b178c74",
   "metadata": {},
   "source": [
    "#### 11. What are the two methods for removing items from a list?\n",
    "**Ans:** The `del` statement and the `remove()` method are two ways to remove values from a list"
   ]
  },
  {
   "cell_type": "markdown",
   "id": "3811c0e8",
   "metadata": {},
   "source": [
    "#### 12. Describe how list values and string values are identical.\n",
    "**Ans:** Both lists and strings can be passed to `len()` function, have indexes and slices, be used in `for` loops, be concatenated or replicated, and be used with the `in` and `not in` operators."
   ]
  },
  {
   "cell_type": "markdown",
   "id": "4845136b",
   "metadata": {},
   "source": [
    "#### 13. What's the difference between tuples and lists?\n",
    "**Ans:** Lists are `Mutable`, `Indexable` and `Slicable`. they can have values added, removed, or changed. Tuples are `Immutable` but `Indexable` and `Slicable`. the tuple values cannot be changed at all. Also, tuples are represented using parentheses, `()`, while lists use the square brackets, `[]`."
   ]
  },
  {
   "cell_type": "markdown",
   "id": "7fa16181",
   "metadata": {},
   "source": [
    "#### 14. How do you type a tuple value that only contains the integer 42?\n",
    "**Ans:**(42,) (The trailing comma is mandatory. otherwise its considered as a int by python Interpreter)"
   ]
  },
  {
   "cell_type": "code",
   "execution_count": 10,
   "id": "20c9775f",
   "metadata": {},
   "outputs": [
    {
     "name": "stdout",
     "output_type": "stream",
     "text": [
      "<class 'int'>\n",
      "<class 'tuple'>\n"
     ]
    }
   ],
   "source": [
    "tup1=(42)\n",
    "tup2=(42,)\n",
    "print(type(tup1))\n",
    "print(type(tup2))"
   ]
  },
  {
   "cell_type": "markdown",
   "id": "42d87c87",
   "metadata": {},
   "source": [
    "#### 15. How do you get a list value's tuple form? How do you get a tuple value's list form?\n",
    "**Ans:** The tuple() and list() functions, respectively are used to convert a list to tuple and vice versa"
   ]
  },
  {
   "cell_type": "markdown",
   "id": "eac0fa89",
   "metadata": {},
   "source": [
    "#### 16. Variables that &quot;contain&quot; list values are not necessarily lists themselves. Instead, what do they contain?\n",
    "**Ans**: They contain references to list values."
   ]
  },
  {
   "cell_type": "markdown",
   "id": "c0f78aa7",
   "metadata": {},
   "source": [
    "#### 17. How do you distinguish between copy.copy() and copy.deepcopy()?\n",
    "**Ans:** The `copy.copy()` function will do a shallow copy of a list, while the `copy.deepcopy()` function will do a deep copy of a list. That is, only `copy.deepcopy()` will duplicate any lists inside the list."
   ]
  },
  {
   "cell_type": "code",
   "execution_count": 6,
   "id": "949e80ae",
   "metadata": {},
   "outputs": [
    {
     "name": "stdout",
     "output_type": "stream",
     "text": [
      "[1, 2, 3] [1, 2, 3]\n"
     ]
    }
   ],
   "source": [
    "from copy import deepcopy\n",
    "demo_list=[1,2,3]\n",
    "demo_list_copy=demo_list.copy()\n",
    "demo_list_deepcopy=deepcopy(demo_list)\n",
    "print(demo_list_copy,demo_list_deepcopy)"
   ]
  },
  {
   "cell_type": "code",
   "execution_count": 7,
   "id": "3d6e9305",
   "metadata": {},
   "outputs": [
    {
     "name": "stdout",
     "output_type": "stream",
     "text": [
      "[1, 2, 3, [4, 5, 6], [7, 8, 9]]\n",
      "[1, 2, 3, [4, 5, 6], [7, 8, 9]]\n",
      "2444169442248 2444169442248\n",
      "2444169442056 2444169442056\n",
      "140734842508192 140734842508192\n",
      "[2, 3, [100, 5, 6]]\n",
      "[2, 3, [100, 5, 6]]\n",
      "###################################\n",
      "[1, 2, 3, [4, 5, 6], [7, 8, 9]]\n",
      "[1, 2, 3, [4, 5, 6], [7, 8, 9]]\n",
      "2444169442504 2444169442184\n",
      "2444169442120 2444169442120\n",
      "140734842508192 140734842508192\n",
      "[2, 3, [100, 5, 6]]\n",
      "[1, 2, 3, [100, 5, 6], [7, 8, 9]]\n",
      "###################################\n",
      "[1, 2, 3, [4, 5, 6], [7, 8, 9]]\n",
      "[1, 2, 3, [4, 5, 6], [7, 8, 9]]\n",
      "2444169443208 2444169442696\n",
      "2444169442632 2444169442632\n",
      "140734842508192 140734842508192\n",
      "[2, 3, [100, 5, 6]]\n",
      "[1, 2, 3, [100, 5, 6], [7, 8, 9]]\n",
      "###################################\n",
      "[1, 2, 3, [4, 5, 6], [7, 8, 9]]\n",
      "[1, 2, 3, [4, 5, 6], [7, 8, 9]]\n",
      "2444169443272 2444168843528\n",
      "2444169443336 2444169443912\n",
      "140734842508192 140734842508192\n",
      "[2, 3, [100, 5, 6]]\n",
      "[1, 2, 3, [4, 5, 6], [7, 8, 9]]\n",
      "##########################\n",
      "[100, 5, 6] 2444169443336\n",
      "[4, 5, 6] 2444169443912\n",
      "100 140734842511264\n",
      "4 140734842508192\n"
     ]
    }
   ],
   "source": [
    "from copy import deepcopy\n",
    "\n",
    "########\"List assignment (does not create a copy) ############\n",
    "l1 = [1,2,3, [4,5,6], [7,8,9]]\n",
    "l1_assigned = l1\n",
    "\n",
    "print(l1)\n",
    "print(l1_assigned)\n",
    "\n",
    "print(id(l1), id(l1_assigned))\n",
    "print(id(l1[3]), id(l1_assigned[3]))\n",
    "print(id(l1[3][0]), id(l1_assigned[3][0]))\n",
    "\n",
    "l1[3][0] = 100\n",
    "l1.pop(4)\n",
    "l1.remove(1)\n",
    "\n",
    "\n",
    "print(l1)\n",
    "print(l1_assigned)\n",
    "print(\"###################################\")\n",
    "\n",
    "########\"List copy using copy method (shallow copy)############\n",
    "\n",
    "l2 = [1,2,3, [4,5,6], [7,8,9]]\n",
    "l2_copy = l2.copy()\n",
    "\n",
    "print(l2)\n",
    "print(l2_copy)\n",
    "\n",
    "print(id(l2), id(l2_copy))\n",
    "print(id(l2[3]), id(l2_copy[3]))\n",
    "print(id(l2[3][0]), id(l2_copy[3][0]))\n",
    "l2[3][0] = 100\n",
    "l2.pop(4)\n",
    "l2.remove(1)\n",
    "\n",
    "\n",
    "print(l2)\n",
    "print(l2_copy)\n",
    "\n",
    "print(\"###################################\")\n",
    "\n",
    "########\"List copy using slice (shallow copy)############\n",
    "\n",
    "l3 = [1,2,3, [4,5,6], [7,8,9]]\n",
    "l3_slice = l3[:]\n",
    "\n",
    "print(l3)\n",
    "print(l3_slice)\n",
    "\n",
    "print(id(l3), id(l3_slice))\n",
    "print(id(l3[3]), id(l3_slice[3]))\n",
    "print(id(l3[3][0]), id(l3_slice[3][0]))\n",
    "\n",
    "l3[3][0] = 100\n",
    "l3.pop(4)\n",
    "l3.remove(1)\n",
    "\n",
    "\n",
    "print(l3)\n",
    "print(l3_slice)\n",
    "\n",
    "print(\"###################################\")\n",
    "\n",
    "########\"List copy using deepcopy ############\n",
    "\n",
    "l4 = [1,2,3, [4,5,6], [7,8,9]]\n",
    "l4_deep = deepcopy(l4)\n",
    "\n",
    "print(l4)\n",
    "print(l4_deep)\n",
    "\n",
    "print(id(l4), id(l4_deep))\n",
    "print(id(l4[3]), id(l4_deep[3]))\n",
    "print(id(l4[3][0]), id(l4_deep[3][0]))\n",
    "\n",
    "l4[3][0] = 100\n",
    "l4.pop(4)\n",
    "l4.remove(1)\n",
    "\n",
    "print(l4)\n",
    "print(l4_deep)\n",
    "print(\"##########################\")\n",
    "print(l4[2], id(l4[2]))\n",
    "print(l4_deep[3], id(l4_deep[3]))\n",
    "\n",
    "print(l4[2][0], id(l4[2][0]))\n",
    "print(l4_deep[3][0], id(l4_deep[3][0]))"
   ]
  },
  {
   "cell_type": "code",
   "execution_count": null,
   "id": "6dc87a1c",
   "metadata": {},
   "outputs": [],
   "source": []
  }
 ],
 "metadata": {
  "kernelspec": {
   "display_name": "Python 3",
   "language": "python",
   "name": "python3"
  },
  "language_info": {
   "codemirror_mode": {
    "name": "ipython",
    "version": 3
   },
   "file_extension": ".py",
   "mimetype": "text/x-python",
   "name": "python",
   "nbconvert_exporter": "python",
   "pygments_lexer": "ipython3",
   "version": "3.7.3"
  }
 },
 "nbformat": 4,
 "nbformat_minor": 5
}
